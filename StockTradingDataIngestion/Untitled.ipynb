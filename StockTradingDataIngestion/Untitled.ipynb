{
 "cells": [
  {
   "cell_type": "markdown",
   "id": "cb355057",
   "metadata": {},
   "source": [
    "# <font color=black> Stock Data Ingestion </font>"
   ]
  },
  {
   "cell_type": "markdown",
   "id": "156412c0",
   "metadata": {},
   "source": [
    "> ## <font color=black> Imports: </font>"
   ]
  },
  {
   "cell_type": "code",
   "execution_count": 100,
   "id": "d7250df2",
   "metadata": {},
   "outputs": [],
   "source": [
    "import requests\n",
    "import pyodbc\n",
    "import pandas as pd\n",
    "import json\n",
    "from sqlalchemy import create_engine\n",
    "from sqlalchemy.engine import URL\n"
   ]
  },
  {
   "cell_type": "markdown",
   "id": "1d241731",
   "metadata": {},
   "source": [
    "> ## <font color=black> Build Connection String </font>\n"
   ]
  },
  {
   "cell_type": "code",
   "execution_count": 105,
   "id": "23701e8d",
   "metadata": {},
   "outputs": [],
   "source": [
    "driver ='Driver={ODBC Driver 17 for SQL Server};'\n",
    "server = 'SERVER=;'\n",
    "database = 'DATABASE=;'\n",
    "username = 'UID=;'\n",
    "password = 'PWD='\n",
    "cnxstr = driver + server + database + username + password\n",
    "cnstr = \"mssql+pyodbc://\"\n",
    "connurl = URL.create(\"mssql+pyodbc\", query={\"odbc_connect\": cnxstr})\n",
    "\n"
   ]
  },
  {
   "cell_type": "markdown",
   "id": "6e6d7ea1",
   "metadata": {},
   "source": [
    "> ## <font color=black> IngestData </font>\n",
    "> > ### <font color=black> This method takes in a ticker, and will <br> use the Yahoo Finance API to get the daily stock price for one year <br> I am using sqlalchemy, and pandas for the ELT pipeline </font>\n"
   ]
  },
  {
   "cell_type": "code",
   "execution_count": 138,
   "id": "90c6c4ff",
   "metadata": {},
   "outputs": [],
   "source": [
    "def IngestData(ticker):\n",
    "    url = \"https://yahoofinance-stocks1.p.rapidapi.com/stock-prices\"\n",
    "\n",
    "    querystring = {\"EndDateInclusive\":\"2022-06-28\",\"StartDateInclusive\":\"2021-06-28\",\"Symbol\":ticker,\"OrderBy\":\"Ascending\"}\n",
    "\n",
    "    headers = {\n",
    "        \"X-RapidAPI-Key\": \"\",\n",
    "        \"X-RapidAPI-Host\": \"\"\n",
    "    }\n",
    "\n",
    "    response = requests.request(\"GET\", url, headers=headers, params=querystring)\n",
    "    response_json = response.json()\n",
    "    df = pd.DataFrame.from_dict(response_json['results'])\n",
    "    df['ticker'] = ticker\n",
    "    df.reset_index()\n",
    "    engine = create_engine(connurl, fast_executemany=True)\n",
    "    df.to_sql('StockData', schema=\"stonks\", con=engine, if_exists='append' )\n",
    "    \n"
   ]
  },
  {
   "cell_type": "markdown",
   "id": "1f8e3372",
   "metadata": {},
   "source": [
    "> ## <font color=black> Get Tickers </font>\n",
    "> > ### <font color=black> I found a CSV online with the top 500 tickers <br> I I read the CSV into a pandas dataframe, and iterate through it, passing in each ticker to the data ingestion method </font>"
   ]
  },
  {
   "cell_type": "code",
   "execution_count": 141,
   "id": "af8c2093",
   "metadata": {},
   "outputs": [],
   "source": [
    "df = pd.read_csv('toptickers.csv')"
   ]
  },
  {
   "cell_type": "code",
   "execution_count": 142,
   "id": "a25cc85b",
   "metadata": {},
   "outputs": [],
   "source": [
    "for row in df.itertuples(index=False):\n",
    "    IngestData(row[0])\n"
   ]
  },
  {
   "cell_type": "code",
   "execution_count": null,
   "id": "a1f73dbc",
   "metadata": {},
   "outputs": [],
   "source": []
  }
 ],
 "metadata": {
  "kernelspec": {
   "display_name": "Python 3 (ipykernel)",
   "language": "python",
   "name": "python3"
  },
  "language_info": {
   "codemirror_mode": {
    "name": "ipython",
    "version": 3
   },
   "file_extension": ".py",
   "mimetype": "text/x-python",
   "name": "python",
   "nbconvert_exporter": "python",
   "pygments_lexer": "ipython3",
   "version": "3.9.7"
  }
 },
 "nbformat": 4,
 "nbformat_minor": 5
}
